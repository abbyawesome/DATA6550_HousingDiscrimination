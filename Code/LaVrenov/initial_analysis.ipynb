{
 "cells": [
  {
   "cell_type": "markdown",
   "id": "61de219e-2c2b-4c86-b404-81725afd4a2a",
   "metadata": {},
   "source": [
    "## DATA-6550 Algorithmic Bias Analysis\n",
    "#### Stiven Lavrenov"
   ]
  },
  {
   "cell_type": "markdown",
   "id": "c7241999-bc00-48e6-bd5e-5588e56cf9bc",
   "metadata": {},
   "source": [
    "### Library Imports"
   ]
  },
  {
   "cell_type": "code",
   "execution_count": 1,
   "id": "ecec0093-6eb1-4520-a62b-e6a6593c33da",
   "metadata": {},
   "outputs": [],
   "source": [
    "import pandas as pd\n",
    "import matplotlib.pyplot as plt\n",
    "\n",
    "# import statsmodels\n",
    "# import statsmodels.api as sm"
   ]
  },
  {
   "cell_type": "markdown",
   "id": "b5420a5a-ec35-4c9b-bd7c-ff5165e1b2ff",
   "metadata": {
    "editable": true,
    "slideshow": {
     "slide_type": ""
    },
    "tags": []
   },
   "source": [
    "---"
   ]
  },
  {
   "cell_type": "markdown",
   "id": "714a3950-0869-44db-9cc7-e757001e9e33",
   "metadata": {},
   "source": [
    "### Import Data"
   ]
  },
  {
   "cell_type": "code",
   "execution_count": 2,
   "id": "23641697-98b4-4dd7-92a2-21d3e1af3064",
   "metadata": {},
   "outputs": [
    {
     "data": {
      "text/html": [
       "<div>\n",
       "<style scoped>\n",
       "    .dataframe tbody tr th:only-of-type {\n",
       "        vertical-align: middle;\n",
       "    }\n",
       "\n",
       "    .dataframe tbody tr th {\n",
       "        vertical-align: top;\n",
       "    }\n",
       "\n",
       "    .dataframe thead th {\n",
       "        text-align: right;\n",
       "    }\n",
       "</style>\n",
       "<table border=\"1\" class=\"dataframe\">\n",
       "  <thead>\n",
       "    <tr style=\"text-align: right;\">\n",
       "      <th></th>\n",
       "      <th>activity_year</th>\n",
       "      <th>census_tract</th>\n",
       "      <th>derived_race</th>\n",
       "      <th>action_taken</th>\n",
       "      <th>loan_amount</th>\n",
       "      <th>property_value</th>\n",
       "      <th>income</th>\n",
       "      <th>interest_rate</th>\n",
       "      <th>tract_minority_population_percent</th>\n",
       "      <th>tract_to_msa_income_percentage</th>\n",
       "      <th>denial_reason-1</th>\n",
       "      <th>covenant_count</th>\n",
       "      <th>was_approved</th>\n",
       "      <th>covenant_density</th>\n",
       "    </tr>\n",
       "  </thead>\n",
       "  <tbody>\n",
       "    <tr>\n",
       "      <th>0</th>\n",
       "      <td>2023</td>\n",
       "      <td>2.703706e+10</td>\n",
       "      <td>Race Not Available</td>\n",
       "      <td>6</td>\n",
       "      <td>185000.0</td>\n",
       "      <td>195000.0</td>\n",
       "      <td>NaN</td>\n",
       "      <td>6.125</td>\n",
       "      <td>40.37</td>\n",
       "      <td>73.48</td>\n",
       "      <td>10</td>\n",
       "      <td>0.0</td>\n",
       "      <td>False</td>\n",
       "      <td>NaN</td>\n",
       "    </tr>\n",
       "    <tr>\n",
       "      <th>1</th>\n",
       "      <td>2023</td>\n",
       "      <td>2.714103e+10</td>\n",
       "      <td>Race Not Available</td>\n",
       "      <td>6</td>\n",
       "      <td>375000.0</td>\n",
       "      <td>385000.0</td>\n",
       "      <td>NaN</td>\n",
       "      <td>6.625</td>\n",
       "      <td>10.64</td>\n",
       "      <td>121.26</td>\n",
       "      <td>10</td>\n",
       "      <td>0.0</td>\n",
       "      <td>False</td>\n",
       "      <td>NaN</td>\n",
       "    </tr>\n",
       "  </tbody>\n",
       "</table>\n",
       "</div>"
      ],
      "text/plain": [
       "   activity_year  census_tract        derived_race  action_taken  loan_amount  \\\n",
       "0           2023  2.703706e+10  Race Not Available             6     185000.0   \n",
       "1           2023  2.714103e+10  Race Not Available             6     375000.0   \n",
       "\n",
       "   property_value  income  interest_rate  tract_minority_population_percent  \\\n",
       "0        195000.0     NaN          6.125                              40.37   \n",
       "1        385000.0     NaN          6.625                              10.64   \n",
       "\n",
       "   tract_to_msa_income_percentage  denial_reason-1  covenant_count  \\\n",
       "0                           73.48               10             0.0   \n",
       "1                          121.26               10             0.0   \n",
       "\n",
       "   was_approved covenant_density  \n",
       "0         False              NaN  \n",
       "1         False              NaN  "
      ]
     },
     "execution_count": 2,
     "metadata": {},
     "output_type": "execute_result"
    }
   ],
   "source": [
    "df = pd.read_csv('../../Data/mortgage_covenant_data.csv')\n",
    "df.head(2)"
   ]
  },
  {
   "cell_type": "markdown",
   "id": "8c8600bd-be41-4ac3-8885-59d396d7ca0c",
   "metadata": {},
   "source": [
    "---"
   ]
  },
  {
   "cell_type": "markdown",
   "id": "1dac094a-2a12-4d8b-8652-6f6d1b445b59",
   "metadata": {},
   "source": [
    "### Data Cleaning + Processing"
   ]
  },
  {
   "cell_type": "code",
   "execution_count": 3,
   "id": "c52e4368-8869-4381-ba1d-fd602f9998d2",
   "metadata": {},
   "outputs": [
    {
     "name": "stdout",
     "output_type": "stream",
     "text": [
      "<class 'pandas.core.frame.DataFrame'>\n",
      "RangeIndex: 100931 entries, 0 to 100930\n",
      "Data columns (total 14 columns):\n",
      " #   Column                             Non-Null Count   Dtype  \n",
      "---  ------                             --------------   -----  \n",
      " 0   activity_year                      100931 non-null  int64  \n",
      " 1   census_tract                       99915 non-null   float64\n",
      " 2   derived_race                       100931 non-null  object \n",
      " 3   action_taken                       100931 non-null  int64  \n",
      " 4   loan_amount                        100931 non-null  float64\n",
      " 5   property_value                     83491 non-null   float64\n",
      " 6   income                             88200 non-null   float64\n",
      " 7   interest_rate                      78125 non-null   float64\n",
      " 8   tract_minority_population_percent  100931 non-null  float64\n",
      " 9   tract_to_msa_income_percentage     100931 non-null  float64\n",
      " 10  denial_reason-1                    100931 non-null  int64  \n",
      " 11  covenant_count                     100931 non-null  float64\n",
      " 12  was_approved                       100931 non-null  bool   \n",
      " 13  covenant_density                   11169 non-null   object \n",
      "dtypes: bool(1), float64(8), int64(3), object(2)\n",
      "memory usage: 10.1+ MB\n"
     ]
    }
   ],
   "source": [
    "df.info()"
   ]
  },
  {
   "cell_type": "code",
   "execution_count": 4,
   "id": "bfe648ff-95dc-47e3-8315-97264c93481f",
   "metadata": {},
   "outputs": [],
   "source": [
    "df['action_taken'] = df['action_taken'].map({1 : 'Loan originated', 2 : 'Application approved but not accepted', 3 : 'Application denied',\n",
    "                                             4 : 'Application withdrawn by applicant', 5 : 'File closed for incompleteness', 6 : 'Purchased loan',\n",
    "                                             7 : 'Preapproval request denied', 8 : 'Preapproval request approved but not accepted'})\n",
    "\n",
    "df['denial_reason-1'] = df['denial_reason-1'].map({1 : 'Debt-to-income ratio', 2 : 'Employment history', 3 : 'Credit history',\n",
    "                                                   4 : 'Collateral', 5 : 'Insufficient cash (downpayment, closing costs)', 6 : 'Unverifiable information',\n",
    "                                                   7 : 'Credit application incomplete', 8 : 'Mortgage insurance denied', 9 : 'Other',\n",
    "                                                   10 : 'Not applicable', 1111 : 'Exempt'})\n",
    "\n",
    "df['covenant_density'].fillna('None (0)', inplace = True)\n",
    "df['property_value'].fillna(df['property_value'].median(), inplace = True)\n",
    "df['income'].fillna(df['income'].median(), inplace = True)\n",
    "df['interest_rate'].fillna(df['interest_rate'].median(), inplace = True)"
   ]
  },
  {
   "cell_type": "code",
   "execution_count": 5,
   "id": "51cdc570-8e17-4be4-bca5-74ec923c5c2d",
   "metadata": {},
   "outputs": [
    {
     "name": "stdout",
     "output_type": "stream",
     "text": [
      "<class 'pandas.core.frame.DataFrame'>\n",
      "RangeIndex: 100931 entries, 0 to 100930\n",
      "Data columns (total 14 columns):\n",
      " #   Column                             Non-Null Count   Dtype  \n",
      "---  ------                             --------------   -----  \n",
      " 0   activity_year                      100931 non-null  int64  \n",
      " 1   census_tract                       99915 non-null   float64\n",
      " 2   derived_race                       100931 non-null  object \n",
      " 3   action_taken                       100931 non-null  object \n",
      " 4   loan_amount                        100931 non-null  float64\n",
      " 5   property_value                     100931 non-null  float64\n",
      " 6   income                             100931 non-null  float64\n",
      " 7   interest_rate                      100931 non-null  float64\n",
      " 8   tract_minority_population_percent  100931 non-null  float64\n",
      " 9   tract_to_msa_income_percentage     100931 non-null  float64\n",
      " 10  denial_reason-1                    100931 non-null  object \n",
      " 11  covenant_count                     100931 non-null  float64\n",
      " 12  was_approved                       100931 non-null  bool   \n",
      " 13  covenant_density                   100931 non-null  object \n",
      "dtypes: bool(1), float64(8), int64(1), object(4)\n",
      "memory usage: 10.1+ MB\n"
     ]
    }
   ],
   "source": [
    "df.info()"
   ]
  },
  {
   "cell_type": "code",
   "execution_count": null,
   "id": "3a978cfc-9a77-4a3a-be9c-64dc7be54606",
   "metadata": {},
   "outputs": [],
   "source": []
  },
  {
   "cell_type": "code",
   "execution_count": null,
   "id": "5dd7fe2e-a6fd-48a5-a639-df5bb8bd47b7",
   "metadata": {},
   "outputs": [],
   "source": []
  },
  {
   "cell_type": "code",
   "execution_count": null,
   "id": "4f7ed40d-38cd-448c-a559-11ac3b018041",
   "metadata": {},
   "outputs": [],
   "source": []
  }
 ],
 "metadata": {
  "kernelspec": {
   "display_name": "Python 3 (ipykernel)",
   "language": "python",
   "name": "python3"
  },
  "language_info": {
   "codemirror_mode": {
    "name": "ipython",
    "version": 3
   },
   "file_extension": ".py",
   "mimetype": "text/x-python",
   "name": "python",
   "nbconvert_exporter": "python",
   "pygments_lexer": "ipython3",
   "version": "3.12.1"
  }
 },
 "nbformat": 4,
 "nbformat_minor": 5
}

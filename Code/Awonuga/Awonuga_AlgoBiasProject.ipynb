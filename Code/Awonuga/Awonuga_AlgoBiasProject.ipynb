{
 "cells": [
  {
   "cell_type": "code",
   "execution_count": 1,
   "id": "b69e3992",
   "metadata": {},
   "outputs": [],
   "source": [
    "import pandas as pd\n",
    "import numpy as np\n",
    "import matplotlib.pyplot as plt\n",
    "import seaborn as sns"
   ]
  },
  {
   "cell_type": "code",
   "execution_count": 2,
   "id": "924c4a45",
   "metadata": {},
   "outputs": [
    {
     "data": {
      "text/html": [
       "<div>\n",
       "<style scoped>\n",
       "    .dataframe tbody tr th:only-of-type {\n",
       "        vertical-align: middle;\n",
       "    }\n",
       "\n",
       "    .dataframe tbody tr th {\n",
       "        vertical-align: top;\n",
       "    }\n",
       "\n",
       "    .dataframe thead th {\n",
       "        text-align: right;\n",
       "    }\n",
       "</style>\n",
       "<table border=\"1\" class=\"dataframe\">\n",
       "  <thead>\n",
       "    <tr style=\"text-align: right;\">\n",
       "      <th></th>\n",
       "      <th>activity_year</th>\n",
       "      <th>census_tract</th>\n",
       "      <th>derived_race</th>\n",
       "      <th>action_taken</th>\n",
       "      <th>loan_amount</th>\n",
       "      <th>property_value</th>\n",
       "      <th>income</th>\n",
       "      <th>interest_rate</th>\n",
       "      <th>tract_minority_population_percent</th>\n",
       "      <th>tract_to_msa_income_percentage</th>\n",
       "      <th>denial_reason-1</th>\n",
       "      <th>covenant_count</th>\n",
       "      <th>was_approved</th>\n",
       "      <th>covenant_density</th>\n",
       "    </tr>\n",
       "  </thead>\n",
       "  <tbody>\n",
       "    <tr>\n",
       "      <th>0</th>\n",
       "      <td>2023</td>\n",
       "      <td>2.703706e+10</td>\n",
       "      <td>Race Not Available</td>\n",
       "      <td>6</td>\n",
       "      <td>185000.0</td>\n",
       "      <td>195000.0</td>\n",
       "      <td>NaN</td>\n",
       "      <td>6.125</td>\n",
       "      <td>40.37</td>\n",
       "      <td>73.48</td>\n",
       "      <td>10</td>\n",
       "      <td>0.0</td>\n",
       "      <td>False</td>\n",
       "      <td>NaN</td>\n",
       "    </tr>\n",
       "    <tr>\n",
       "      <th>1</th>\n",
       "      <td>2023</td>\n",
       "      <td>2.714103e+10</td>\n",
       "      <td>Race Not Available</td>\n",
       "      <td>6</td>\n",
       "      <td>375000.0</td>\n",
       "      <td>385000.0</td>\n",
       "      <td>NaN</td>\n",
       "      <td>6.625</td>\n",
       "      <td>10.64</td>\n",
       "      <td>121.26</td>\n",
       "      <td>10</td>\n",
       "      <td>0.0</td>\n",
       "      <td>False</td>\n",
       "      <td>NaN</td>\n",
       "    </tr>\n",
       "    <tr>\n",
       "      <th>2</th>\n",
       "      <td>2023</td>\n",
       "      <td>2.702395e+10</td>\n",
       "      <td>Race Not Available</td>\n",
       "      <td>6</td>\n",
       "      <td>105000.0</td>\n",
       "      <td>105000.0</td>\n",
       "      <td>NaN</td>\n",
       "      <td>6.125</td>\n",
       "      <td>8.92</td>\n",
       "      <td>90.13</td>\n",
       "      <td>10</td>\n",
       "      <td>0.0</td>\n",
       "      <td>False</td>\n",
       "      <td>NaN</td>\n",
       "    </tr>\n",
       "    <tr>\n",
       "      <th>3</th>\n",
       "      <td>2023</td>\n",
       "      <td>2.717110e+10</td>\n",
       "      <td>Race Not Available</td>\n",
       "      <td>6</td>\n",
       "      <td>285000.0</td>\n",
       "      <td>285000.0</td>\n",
       "      <td>NaN</td>\n",
       "      <td>6.750</td>\n",
       "      <td>13.27</td>\n",
       "      <td>104.37</td>\n",
       "      <td>10</td>\n",
       "      <td>0.0</td>\n",
       "      <td>False</td>\n",
       "      <td>NaN</td>\n",
       "    </tr>\n",
       "    <tr>\n",
       "      <th>4</th>\n",
       "      <td>2023</td>\n",
       "      <td>2.715948e+10</td>\n",
       "      <td>Race Not Available</td>\n",
       "      <td>6</td>\n",
       "      <td>175000.0</td>\n",
       "      <td>175000.0</td>\n",
       "      <td>NaN</td>\n",
       "      <td>6.875</td>\n",
       "      <td>5.87</td>\n",
       "      <td>82.22</td>\n",
       "      <td>10</td>\n",
       "      <td>0.0</td>\n",
       "      <td>False</td>\n",
       "      <td>NaN</td>\n",
       "    </tr>\n",
       "    <tr>\n",
       "      <th>...</th>\n",
       "      <td>...</td>\n",
       "      <td>...</td>\n",
       "      <td>...</td>\n",
       "      <td>...</td>\n",
       "      <td>...</td>\n",
       "      <td>...</td>\n",
       "      <td>...</td>\n",
       "      <td>...</td>\n",
       "      <td>...</td>\n",
       "      <td>...</td>\n",
       "      <td>...</td>\n",
       "      <td>...</td>\n",
       "      <td>...</td>\n",
       "      <td>...</td>\n",
       "    </tr>\n",
       "    <tr>\n",
       "      <th>100926</th>\n",
       "      <td>2023</td>\n",
       "      <td>2.700902e+10</td>\n",
       "      <td>Race Not Available</td>\n",
       "      <td>6</td>\n",
       "      <td>255000.0</td>\n",
       "      <td>265000.0</td>\n",
       "      <td>NaN</td>\n",
       "      <td>6.125</td>\n",
       "      <td>4.88</td>\n",
       "      <td>106.18</td>\n",
       "      <td>10</td>\n",
       "      <td>0.0</td>\n",
       "      <td>False</td>\n",
       "      <td>NaN</td>\n",
       "    </tr>\n",
       "    <tr>\n",
       "      <th>100927</th>\n",
       "      <td>2023</td>\n",
       "      <td>2.706778e+10</td>\n",
       "      <td>Race Not Available</td>\n",
       "      <td>6</td>\n",
       "      <td>185000.0</td>\n",
       "      <td>335000.0</td>\n",
       "      <td>NaN</td>\n",
       "      <td>6.125</td>\n",
       "      <td>46.58</td>\n",
       "      <td>74.68</td>\n",
       "      <td>10</td>\n",
       "      <td>0.0</td>\n",
       "      <td>False</td>\n",
       "      <td>NaN</td>\n",
       "    </tr>\n",
       "    <tr>\n",
       "      <th>100928</th>\n",
       "      <td>2023</td>\n",
       "      <td>2.714948e+10</td>\n",
       "      <td>Race Not Available</td>\n",
       "      <td>6</td>\n",
       "      <td>65000.0</td>\n",
       "      <td>75000.0</td>\n",
       "      <td>NaN</td>\n",
       "      <td>6.750</td>\n",
       "      <td>20.14</td>\n",
       "      <td>118.83</td>\n",
       "      <td>10</td>\n",
       "      <td>0.0</td>\n",
       "      <td>False</td>\n",
       "      <td>NaN</td>\n",
       "    </tr>\n",
       "    <tr>\n",
       "      <th>100929</th>\n",
       "      <td>2023</td>\n",
       "      <td>2.705913e+10</td>\n",
       "      <td>Race Not Available</td>\n",
       "      <td>6</td>\n",
       "      <td>545000.0</td>\n",
       "      <td>525000.0</td>\n",
       "      <td>NaN</td>\n",
       "      <td>5.000</td>\n",
       "      <td>6.84</td>\n",
       "      <td>90.07</td>\n",
       "      <td>10</td>\n",
       "      <td>0.0</td>\n",
       "      <td>False</td>\n",
       "      <td>NaN</td>\n",
       "    </tr>\n",
       "    <tr>\n",
       "      <th>100930</th>\n",
       "      <td>2023</td>\n",
       "      <td>2.703595e+10</td>\n",
       "      <td>Race Not Available</td>\n",
       "      <td>6</td>\n",
       "      <td>435000.0</td>\n",
       "      <td>985000.0</td>\n",
       "      <td>NaN</td>\n",
       "      <td>5.500</td>\n",
       "      <td>5.64</td>\n",
       "      <td>106.15</td>\n",
       "      <td>10</td>\n",
       "      <td>0.0</td>\n",
       "      <td>False</td>\n",
       "      <td>NaN</td>\n",
       "    </tr>\n",
       "  </tbody>\n",
       "</table>\n",
       "<p>100931 rows × 14 columns</p>\n",
       "</div>"
      ],
      "text/plain": [
       "        activity_year  census_tract        derived_race  action_taken  \\\n",
       "0                2023  2.703706e+10  Race Not Available             6   \n",
       "1                2023  2.714103e+10  Race Not Available             6   \n",
       "2                2023  2.702395e+10  Race Not Available             6   \n",
       "3                2023  2.717110e+10  Race Not Available             6   \n",
       "4                2023  2.715948e+10  Race Not Available             6   \n",
       "...               ...           ...                 ...           ...   \n",
       "100926           2023  2.700902e+10  Race Not Available             6   \n",
       "100927           2023  2.706778e+10  Race Not Available             6   \n",
       "100928           2023  2.714948e+10  Race Not Available             6   \n",
       "100929           2023  2.705913e+10  Race Not Available             6   \n",
       "100930           2023  2.703595e+10  Race Not Available             6   \n",
       "\n",
       "        loan_amount  property_value  income  interest_rate  \\\n",
       "0          185000.0        195000.0     NaN          6.125   \n",
       "1          375000.0        385000.0     NaN          6.625   \n",
       "2          105000.0        105000.0     NaN          6.125   \n",
       "3          285000.0        285000.0     NaN          6.750   \n",
       "4          175000.0        175000.0     NaN          6.875   \n",
       "...             ...             ...     ...            ...   \n",
       "100926     255000.0        265000.0     NaN          6.125   \n",
       "100927     185000.0        335000.0     NaN          6.125   \n",
       "100928      65000.0         75000.0     NaN          6.750   \n",
       "100929     545000.0        525000.0     NaN          5.000   \n",
       "100930     435000.0        985000.0     NaN          5.500   \n",
       "\n",
       "        tract_minority_population_percent  tract_to_msa_income_percentage  \\\n",
       "0                                   40.37                           73.48   \n",
       "1                                   10.64                          121.26   \n",
       "2                                    8.92                           90.13   \n",
       "3                                   13.27                          104.37   \n",
       "4                                    5.87                           82.22   \n",
       "...                                   ...                             ...   \n",
       "100926                               4.88                          106.18   \n",
       "100927                              46.58                           74.68   \n",
       "100928                              20.14                          118.83   \n",
       "100929                               6.84                           90.07   \n",
       "100930                               5.64                          106.15   \n",
       "\n",
       "        denial_reason-1  covenant_count  was_approved covenant_density  \n",
       "0                    10             0.0         False              NaN  \n",
       "1                    10             0.0         False              NaN  \n",
       "2                    10             0.0         False              NaN  \n",
       "3                    10             0.0         False              NaN  \n",
       "4                    10             0.0         False              NaN  \n",
       "...                 ...             ...           ...              ...  \n",
       "100926               10             0.0         False              NaN  \n",
       "100927               10             0.0         False              NaN  \n",
       "100928               10             0.0         False              NaN  \n",
       "100929               10             0.0         False              NaN  \n",
       "100930               10             0.0         False              NaN  \n",
       "\n",
       "[100931 rows x 14 columns]"
      ]
     },
     "execution_count": 2,
     "metadata": {},
     "output_type": "execute_result"
    }
   ],
   "source": [
    "mortgage=pd.read_csv('data/mortgage_covenant_data.csv')\n",
    "mortgage"
   ]
  },
  {
   "cell_type": "markdown",
   "id": "b105488e",
   "metadata": {},
   "source": [
    "### Data Preprocessing"
   ]
  },
  {
   "cell_type": "code",
   "execution_count": 3,
   "id": "3e2de70c",
   "metadata": {},
   "outputs": [
    {
     "name": "stdout",
     "output_type": "stream",
     "text": [
      "<class 'pandas.core.frame.DataFrame'>\n",
      "RangeIndex: 100931 entries, 0 to 100930\n",
      "Data columns (total 14 columns):\n",
      " #   Column                             Non-Null Count   Dtype  \n",
      "---  ------                             --------------   -----  \n",
      " 0   activity_year                      100931 non-null  int64  \n",
      " 1   census_tract                       99915 non-null   float64\n",
      " 2   derived_race                       100931 non-null  object \n",
      " 3   action_taken                       100931 non-null  int64  \n",
      " 4   loan_amount                        100931 non-null  float64\n",
      " 5   property_value                     83491 non-null   float64\n",
      " 6   income                             88200 non-null   float64\n",
      " 7   interest_rate                      78125 non-null   float64\n",
      " 8   tract_minority_population_percent  100931 non-null  float64\n",
      " 9   tract_to_msa_income_percentage     100931 non-null  float64\n",
      " 10  denial_reason-1                    100931 non-null  int64  \n",
      " 11  covenant_count                     100931 non-null  float64\n",
      " 12  was_approved                       100931 non-null  bool   \n",
      " 13  covenant_density                   11169 non-null   object \n",
      "dtypes: bool(1), float64(8), int64(3), object(2)\n",
      "memory usage: 10.1+ MB\n"
     ]
    }
   ],
   "source": [
    "mortgage.info()"
   ]
  },
  {
   "cell_type": "code",
   "execution_count": 4,
   "id": "a08e46f7",
   "metadata": {},
   "outputs": [],
   "source": [
    "mortgage=mortgage.dropna()"
   ]
  },
  {
   "cell_type": "code",
   "execution_count": 5,
   "id": "d501cff9",
   "metadata": {},
   "outputs": [
    {
     "data": {
      "text/plain": [
       "322             Low (1-50)\n",
       "363        Medium (51-100)\n",
       "369       Very High (>200)\n",
       "373        Medium (51-100)\n",
       "403         High (101-200)\n",
       "                ...       \n",
       "100329          Low (1-50)\n",
       "100339          Low (1-50)\n",
       "100345      High (101-200)\n",
       "100347    Very High (>200)\n",
       "100922          Low (1-50)\n",
       "Name: covenant_density, Length: 7732, dtype: object"
      ]
     },
     "execution_count": 5,
     "metadata": {},
     "output_type": "execute_result"
    }
   ],
   "source": [
    "mortgage['covenant_density']"
   ]
  },
  {
   "cell_type": "code",
   "execution_count": 6,
   "id": "c485e10c",
   "metadata": {},
   "outputs": [
    {
     "name": "stderr",
     "output_type": "stream",
     "text": [
      "/var/folders/lg/0gpljwbj5gl1ltsgvg516hzm0000gn/T/ipykernel_6412/378527793.py:11: SettingWithCopyWarning: \n",
      "A value is trying to be set on a copy of a slice from a DataFrame.\n",
      "Try using .loc[row_indexer,col_indexer] = value instead\n",
      "\n",
      "See the caveats in the documentation: https://pandas.pydata.org/pandas-docs/stable/user_guide/indexing.html#returning-a-view-versus-a-copy\n",
      "  mortgage['covenant_density'] = mortgage.apply(density, axis = 1)\n"
     ]
    }
   ],
   "source": [
    "def density(d):\n",
    "  if d['covenant_density']=='Medium (51-100)':\n",
    "    return 1\n",
    "  elif d['covenant_density']=='High (101-200)':\n",
    "    return 2\n",
    "  elif d['covenant_density']=='Very High (>200)':\n",
    "    return 3\n",
    "  else:\n",
    "    return 0    \n",
    "    \n",
    "mortgage['covenant_density'] = mortgage.apply(density, axis = 1)"
   ]
  },
  {
   "cell_type": "code",
   "execution_count": 7,
   "id": "66452505",
   "metadata": {},
   "outputs": [
    {
     "name": "stderr",
     "output_type": "stream",
     "text": [
      "/var/folders/lg/0gpljwbj5gl1ltsgvg516hzm0000gn/T/ipykernel_6412/684252057.py:6: SettingWithCopyWarning: \n",
      "A value is trying to be set on a copy of a slice from a DataFrame.\n",
      "Try using .loc[row_indexer,col_indexer] = value instead\n",
      "\n",
      "See the caveats in the documentation: https://pandas.pydata.org/pandas-docs/stable/user_guide/indexing.html#returning-a-view-versus-a-copy\n",
      "  mortgage['was_approved']=mortgage.apply(approval, axis=1)\n"
     ]
    }
   ],
   "source": [
    "def approval(a):\n",
    "    if a['was_approved']=='True':\n",
    "        return 1\n",
    "    else:\n",
    "        return 0\n",
    "mortgage['was_approved']=mortgage.apply(approval, axis=1)    "
   ]
  },
  {
   "cell_type": "code",
   "execution_count": 8,
   "id": "3e177aee",
   "metadata": {},
   "outputs": [],
   "source": [
    "dummy_race=pd.get_dummies(mortgage['derived_race'],drop_first=False, prefix='race', dtype='int')\n",
    "mortgage= pd.concat([mortgage, dummy_race], axis=1)"
   ]
  },
  {
   "cell_type": "code",
   "execution_count": 9,
   "id": "1ca9f6d8",
   "metadata": {},
   "outputs": [
    {
     "data": {
      "text/html": [
       "<div>\n",
       "<style scoped>\n",
       "    .dataframe tbody tr th:only-of-type {\n",
       "        vertical-align: middle;\n",
       "    }\n",
       "\n",
       "    .dataframe tbody tr th {\n",
       "        vertical-align: top;\n",
       "    }\n",
       "\n",
       "    .dataframe thead th {\n",
       "        text-align: right;\n",
       "    }\n",
       "</style>\n",
       "<table border=\"1\" class=\"dataframe\">\n",
       "  <thead>\n",
       "    <tr style=\"text-align: right;\">\n",
       "      <th></th>\n",
       "      <th>activity_year</th>\n",
       "      <th>census_tract</th>\n",
       "      <th>derived_race</th>\n",
       "      <th>action_taken</th>\n",
       "      <th>loan_amount</th>\n",
       "      <th>property_value</th>\n",
       "      <th>income</th>\n",
       "      <th>interest_rate</th>\n",
       "      <th>tract_minority_population_percent</th>\n",
       "      <th>tract_to_msa_income_percentage</th>\n",
       "      <th>...</th>\n",
       "      <th>was_approved</th>\n",
       "      <th>covenant_density</th>\n",
       "      <th>race_2 or more minority races</th>\n",
       "      <th>race_American Indian or Alaska Native</th>\n",
       "      <th>race_Asian</th>\n",
       "      <th>race_Black or African American</th>\n",
       "      <th>race_Joint</th>\n",
       "      <th>race_Native Hawaiian or Other Pacific Islander</th>\n",
       "      <th>race_Race Not Available</th>\n",
       "      <th>race_White</th>\n",
       "    </tr>\n",
       "  </thead>\n",
       "  <tbody>\n",
       "    <tr>\n",
       "      <th>322</th>\n",
       "      <td>2023</td>\n",
       "      <td>2.705303e+10</td>\n",
       "      <td>Race Not Available</td>\n",
       "      <td>1</td>\n",
       "      <td>325000.0</td>\n",
       "      <td>345000.0</td>\n",
       "      <td>82.0</td>\n",
       "      <td>6.625</td>\n",
       "      <td>42.72</td>\n",
       "      <td>80.87</td>\n",
       "      <td>...</td>\n",
       "      <td>0</td>\n",
       "      <td>0</td>\n",
       "      <td>0</td>\n",
       "      <td>0</td>\n",
       "      <td>0</td>\n",
       "      <td>0</td>\n",
       "      <td>0</td>\n",
       "      <td>0</td>\n",
       "      <td>1</td>\n",
       "      <td>0</td>\n",
       "    </tr>\n",
       "    <tr>\n",
       "      <th>363</th>\n",
       "      <td>2023</td>\n",
       "      <td>2.705302e+10</td>\n",
       "      <td>White</td>\n",
       "      <td>1</td>\n",
       "      <td>315000.0</td>\n",
       "      <td>325000.0</td>\n",
       "      <td>68.0</td>\n",
       "      <td>6.375</td>\n",
       "      <td>62.20</td>\n",
       "      <td>69.94</td>\n",
       "      <td>...</td>\n",
       "      <td>0</td>\n",
       "      <td>1</td>\n",
       "      <td>0</td>\n",
       "      <td>0</td>\n",
       "      <td>0</td>\n",
       "      <td>0</td>\n",
       "      <td>0</td>\n",
       "      <td>0</td>\n",
       "      <td>0</td>\n",
       "      <td>1</td>\n",
       "    </tr>\n",
       "    <tr>\n",
       "      <th>369</th>\n",
       "      <td>2023</td>\n",
       "      <td>2.705303e+10</td>\n",
       "      <td>Asian</td>\n",
       "      <td>1</td>\n",
       "      <td>365000.0</td>\n",
       "      <td>495000.0</td>\n",
       "      <td>392.0</td>\n",
       "      <td>7.625</td>\n",
       "      <td>12.92</td>\n",
       "      <td>108.89</td>\n",
       "      <td>...</td>\n",
       "      <td>0</td>\n",
       "      <td>3</td>\n",
       "      <td>0</td>\n",
       "      <td>0</td>\n",
       "      <td>1</td>\n",
       "      <td>0</td>\n",
       "      <td>0</td>\n",
       "      <td>0</td>\n",
       "      <td>0</td>\n",
       "      <td>0</td>\n",
       "    </tr>\n",
       "    <tr>\n",
       "      <th>373</th>\n",
       "      <td>2023</td>\n",
       "      <td>2.705303e+10</td>\n",
       "      <td>White</td>\n",
       "      <td>1</td>\n",
       "      <td>195000.0</td>\n",
       "      <td>225000.0</td>\n",
       "      <td>53.0</td>\n",
       "      <td>6.875</td>\n",
       "      <td>47.47</td>\n",
       "      <td>77.17</td>\n",
       "      <td>...</td>\n",
       "      <td>0</td>\n",
       "      <td>1</td>\n",
       "      <td>0</td>\n",
       "      <td>0</td>\n",
       "      <td>0</td>\n",
       "      <td>0</td>\n",
       "      <td>0</td>\n",
       "      <td>0</td>\n",
       "      <td>0</td>\n",
       "      <td>1</td>\n",
       "    </tr>\n",
       "    <tr>\n",
       "      <th>403</th>\n",
       "      <td>2023</td>\n",
       "      <td>2.705303e+10</td>\n",
       "      <td>White</td>\n",
       "      <td>1</td>\n",
       "      <td>475000.0</td>\n",
       "      <td>685000.0</td>\n",
       "      <td>221.0</td>\n",
       "      <td>7.250</td>\n",
       "      <td>25.75</td>\n",
       "      <td>106.27</td>\n",
       "      <td>...</td>\n",
       "      <td>0</td>\n",
       "      <td>2</td>\n",
       "      <td>0</td>\n",
       "      <td>0</td>\n",
       "      <td>0</td>\n",
       "      <td>0</td>\n",
       "      <td>0</td>\n",
       "      <td>0</td>\n",
       "      <td>0</td>\n",
       "      <td>1</td>\n",
       "    </tr>\n",
       "    <tr>\n",
       "      <th>...</th>\n",
       "      <td>...</td>\n",
       "      <td>...</td>\n",
       "      <td>...</td>\n",
       "      <td>...</td>\n",
       "      <td>...</td>\n",
       "      <td>...</td>\n",
       "      <td>...</td>\n",
       "      <td>...</td>\n",
       "      <td>...</td>\n",
       "      <td>...</td>\n",
       "      <td>...</td>\n",
       "      <td>...</td>\n",
       "      <td>...</td>\n",
       "      <td>...</td>\n",
       "      <td>...</td>\n",
       "      <td>...</td>\n",
       "      <td>...</td>\n",
       "      <td>...</td>\n",
       "      <td>...</td>\n",
       "      <td>...</td>\n",
       "      <td>...</td>\n",
       "    </tr>\n",
       "    <tr>\n",
       "      <th>100329</th>\n",
       "      <td>2023</td>\n",
       "      <td>2.705311e+10</td>\n",
       "      <td>White</td>\n",
       "      <td>1</td>\n",
       "      <td>195000.0</td>\n",
       "      <td>235000.0</td>\n",
       "      <td>66.0</td>\n",
       "      <td>6.375</td>\n",
       "      <td>32.81</td>\n",
       "      <td>98.37</td>\n",
       "      <td>...</td>\n",
       "      <td>0</td>\n",
       "      <td>0</td>\n",
       "      <td>0</td>\n",
       "      <td>0</td>\n",
       "      <td>0</td>\n",
       "      <td>0</td>\n",
       "      <td>0</td>\n",
       "      <td>0</td>\n",
       "      <td>0</td>\n",
       "      <td>1</td>\n",
       "    </tr>\n",
       "    <tr>\n",
       "      <th>100339</th>\n",
       "      <td>2023</td>\n",
       "      <td>2.705311e+10</td>\n",
       "      <td>White</td>\n",
       "      <td>1</td>\n",
       "      <td>185000.0</td>\n",
       "      <td>325000.0</td>\n",
       "      <td>212.0</td>\n",
       "      <td>5.125</td>\n",
       "      <td>19.30</td>\n",
       "      <td>187.69</td>\n",
       "      <td>...</td>\n",
       "      <td>0</td>\n",
       "      <td>0</td>\n",
       "      <td>0</td>\n",
       "      <td>0</td>\n",
       "      <td>0</td>\n",
       "      <td>0</td>\n",
       "      <td>0</td>\n",
       "      <td>0</td>\n",
       "      <td>0</td>\n",
       "      <td>1</td>\n",
       "    </tr>\n",
       "    <tr>\n",
       "      <th>100345</th>\n",
       "      <td>2023</td>\n",
       "      <td>2.705302e+10</td>\n",
       "      <td>White</td>\n",
       "      <td>1</td>\n",
       "      <td>1375000.0</td>\n",
       "      <td>1715000.0</td>\n",
       "      <td>550.0</td>\n",
       "      <td>5.875</td>\n",
       "      <td>16.75</td>\n",
       "      <td>132.00</td>\n",
       "      <td>...</td>\n",
       "      <td>0</td>\n",
       "      <td>2</td>\n",
       "      <td>0</td>\n",
       "      <td>0</td>\n",
       "      <td>0</td>\n",
       "      <td>0</td>\n",
       "      <td>0</td>\n",
       "      <td>0</td>\n",
       "      <td>0</td>\n",
       "      <td>1</td>\n",
       "    </tr>\n",
       "    <tr>\n",
       "      <th>100347</th>\n",
       "      <td>2023</td>\n",
       "      <td>2.705302e+10</td>\n",
       "      <td>White</td>\n",
       "      <td>1</td>\n",
       "      <td>345000.0</td>\n",
       "      <td>365000.0</td>\n",
       "      <td>137.0</td>\n",
       "      <td>6.000</td>\n",
       "      <td>33.47</td>\n",
       "      <td>69.12</td>\n",
       "      <td>...</td>\n",
       "      <td>0</td>\n",
       "      <td>3</td>\n",
       "      <td>0</td>\n",
       "      <td>0</td>\n",
       "      <td>0</td>\n",
       "      <td>0</td>\n",
       "      <td>0</td>\n",
       "      <td>0</td>\n",
       "      <td>0</td>\n",
       "      <td>1</td>\n",
       "    </tr>\n",
       "    <tr>\n",
       "      <th>100922</th>\n",
       "      <td>2023</td>\n",
       "      <td>2.705311e+10</td>\n",
       "      <td>Joint</td>\n",
       "      <td>1</td>\n",
       "      <td>295000.0</td>\n",
       "      <td>615000.0</td>\n",
       "      <td>209.0</td>\n",
       "      <td>6.125</td>\n",
       "      <td>22.63</td>\n",
       "      <td>106.99</td>\n",
       "      <td>...</td>\n",
       "      <td>0</td>\n",
       "      <td>0</td>\n",
       "      <td>0</td>\n",
       "      <td>0</td>\n",
       "      <td>0</td>\n",
       "      <td>0</td>\n",
       "      <td>1</td>\n",
       "      <td>0</td>\n",
       "      <td>0</td>\n",
       "      <td>0</td>\n",
       "    </tr>\n",
       "  </tbody>\n",
       "</table>\n",
       "<p>7732 rows × 22 columns</p>\n",
       "</div>"
      ],
      "text/plain": [
       "        activity_year  census_tract        derived_race  action_taken  \\\n",
       "322              2023  2.705303e+10  Race Not Available             1   \n",
       "363              2023  2.705302e+10               White             1   \n",
       "369              2023  2.705303e+10               Asian             1   \n",
       "373              2023  2.705303e+10               White             1   \n",
       "403              2023  2.705303e+10               White             1   \n",
       "...               ...           ...                 ...           ...   \n",
       "100329           2023  2.705311e+10               White             1   \n",
       "100339           2023  2.705311e+10               White             1   \n",
       "100345           2023  2.705302e+10               White             1   \n",
       "100347           2023  2.705302e+10               White             1   \n",
       "100922           2023  2.705311e+10               Joint             1   \n",
       "\n",
       "        loan_amount  property_value  income  interest_rate  \\\n",
       "322        325000.0        345000.0    82.0          6.625   \n",
       "363        315000.0        325000.0    68.0          6.375   \n",
       "369        365000.0        495000.0   392.0          7.625   \n",
       "373        195000.0        225000.0    53.0          6.875   \n",
       "403        475000.0        685000.0   221.0          7.250   \n",
       "...             ...             ...     ...            ...   \n",
       "100329     195000.0        235000.0    66.0          6.375   \n",
       "100339     185000.0        325000.0   212.0          5.125   \n",
       "100345    1375000.0       1715000.0   550.0          5.875   \n",
       "100347     345000.0        365000.0   137.0          6.000   \n",
       "100922     295000.0        615000.0   209.0          6.125   \n",
       "\n",
       "        tract_minority_population_percent  tract_to_msa_income_percentage  \\\n",
       "322                                 42.72                           80.87   \n",
       "363                                 62.20                           69.94   \n",
       "369                                 12.92                          108.89   \n",
       "373                                 47.47                           77.17   \n",
       "403                                 25.75                          106.27   \n",
       "...                                   ...                             ...   \n",
       "100329                              32.81                           98.37   \n",
       "100339                              19.30                          187.69   \n",
       "100345                              16.75                          132.00   \n",
       "100347                              33.47                           69.12   \n",
       "100922                              22.63                          106.99   \n",
       "\n",
       "        ...  was_approved  covenant_density  race_2 or more minority races  \\\n",
       "322     ...             0                 0                              0   \n",
       "363     ...             0                 1                              0   \n",
       "369     ...             0                 3                              0   \n",
       "373     ...             0                 1                              0   \n",
       "403     ...             0                 2                              0   \n",
       "...     ...           ...               ...                            ...   \n",
       "100329  ...             0                 0                              0   \n",
       "100339  ...             0                 0                              0   \n",
       "100345  ...             0                 2                              0   \n",
       "100347  ...             0                 3                              0   \n",
       "100922  ...             0                 0                              0   \n",
       "\n",
       "        race_American Indian or Alaska Native  race_Asian  \\\n",
       "322                                         0           0   \n",
       "363                                         0           0   \n",
       "369                                         0           1   \n",
       "373                                         0           0   \n",
       "403                                         0           0   \n",
       "...                                       ...         ...   \n",
       "100329                                      0           0   \n",
       "100339                                      0           0   \n",
       "100345                                      0           0   \n",
       "100347                                      0           0   \n",
       "100922                                      0           0   \n",
       "\n",
       "        race_Black or African American  race_Joint  \\\n",
       "322                                  0           0   \n",
       "363                                  0           0   \n",
       "369                                  0           0   \n",
       "373                                  0           0   \n",
       "403                                  0           0   \n",
       "...                                ...         ...   \n",
       "100329                               0           0   \n",
       "100339                               0           0   \n",
       "100345                               0           0   \n",
       "100347                               0           0   \n",
       "100922                               0           1   \n",
       "\n",
       "        race_Native Hawaiian or Other Pacific Islander  \\\n",
       "322                                                  0   \n",
       "363                                                  0   \n",
       "369                                                  0   \n",
       "373                                                  0   \n",
       "403                                                  0   \n",
       "...                                                ...   \n",
       "100329                                               0   \n",
       "100339                                               0   \n",
       "100345                                               0   \n",
       "100347                                               0   \n",
       "100922                                               0   \n",
       "\n",
       "        race_Race Not Available  race_White  \n",
       "322                           1           0  \n",
       "363                           0           1  \n",
       "369                           0           0  \n",
       "373                           0           1  \n",
       "403                           0           1  \n",
       "...                         ...         ...  \n",
       "100329                        0           1  \n",
       "100339                        0           1  \n",
       "100345                        0           1  \n",
       "100347                        0           1  \n",
       "100922                        0           0  \n",
       "\n",
       "[7732 rows x 22 columns]"
      ]
     },
     "execution_count": 9,
     "metadata": {},
     "output_type": "execute_result"
    }
   ],
   "source": [
    "mortgage"
   ]
  },
  {
   "cell_type": "code",
   "execution_count": 10,
   "id": "b61354d5",
   "metadata": {},
   "outputs": [],
   "source": [
    "#things to do: lasso to find what factors attribute to ism, double bar to compare cov vs non cov, bar to compare\n",
    "# cov density to prop value"
   ]
  },
  {
   "cell_type": "markdown",
   "id": "d0dfef98",
   "metadata": {},
   "source": [
    "### Lasso Regression to Determine Factor That Attribute to Discrimination"
   ]
  },
  {
   "cell_type": "code",
   "execution_count": 11,
   "id": "23761746",
   "metadata": {},
   "outputs": [],
   "source": [
    "from sklearn.model_selection import train_test_split\n",
    "\n",
    "X= mortgage.drop(['derived_race', 'activity_year'], axis=1)\n",
    "y =mortgage['property_value']\n",
    "\n",
    "X_train,X_test,y_train,y_test = train_test_split(X,y,test_size=0.3,random_state=6500)"
   ]
  },
  {
   "cell_type": "code",
   "execution_count": 12,
   "id": "81442f3e",
   "metadata": {},
   "outputs": [],
   "source": [
    "from sklearn.linear_model import LinearRegression, Ridge, Lasso\n",
    "from sklearn.model_selection import cross_val_score\n",
    "\n",
    "from numpy import arange\n",
    "from sklearn.model_selection import GridSearchCV\n",
    "from sklearn.model_selection import RepeatedKFold\n",
    "\n",
    "from sklearn.metrics import mean_squared_error"
   ]
  },
  {
   "cell_type": "code",
   "execution_count": 13,
   "id": "ab5a804e",
   "metadata": {},
   "outputs": [
    {
     "data": {
      "text/html": [
       "<style>#sk-container-id-1 {color: black;}#sk-container-id-1 pre{padding: 0;}#sk-container-id-1 div.sk-toggleable {background-color: white;}#sk-container-id-1 label.sk-toggleable__label {cursor: pointer;display: block;width: 100%;margin-bottom: 0;padding: 0.3em;box-sizing: border-box;text-align: center;}#sk-container-id-1 label.sk-toggleable__label-arrow:before {content: \"▸\";float: left;margin-right: 0.25em;color: #696969;}#sk-container-id-1 label.sk-toggleable__label-arrow:hover:before {color: black;}#sk-container-id-1 div.sk-estimator:hover label.sk-toggleable__label-arrow:before {color: black;}#sk-container-id-1 div.sk-toggleable__content {max-height: 0;max-width: 0;overflow: hidden;text-align: left;background-color: #f0f8ff;}#sk-container-id-1 div.sk-toggleable__content pre {margin: 0.2em;color: black;border-radius: 0.25em;background-color: #f0f8ff;}#sk-container-id-1 input.sk-toggleable__control:checked~div.sk-toggleable__content {max-height: 200px;max-width: 100%;overflow: auto;}#sk-container-id-1 input.sk-toggleable__control:checked~label.sk-toggleable__label-arrow:before {content: \"▾\";}#sk-container-id-1 div.sk-estimator input.sk-toggleable__control:checked~label.sk-toggleable__label {background-color: #d4ebff;}#sk-container-id-1 div.sk-label input.sk-toggleable__control:checked~label.sk-toggleable__label {background-color: #d4ebff;}#sk-container-id-1 input.sk-hidden--visually {border: 0;clip: rect(1px 1px 1px 1px);clip: rect(1px, 1px, 1px, 1px);height: 1px;margin: -1px;overflow: hidden;padding: 0;position: absolute;width: 1px;}#sk-container-id-1 div.sk-estimator {font-family: monospace;background-color: #f0f8ff;border: 1px dotted black;border-radius: 0.25em;box-sizing: border-box;margin-bottom: 0.5em;}#sk-container-id-1 div.sk-estimator:hover {background-color: #d4ebff;}#sk-container-id-1 div.sk-parallel-item::after {content: \"\";width: 100%;border-bottom: 1px solid gray;flex-grow: 1;}#sk-container-id-1 div.sk-label:hover label.sk-toggleable__label {background-color: #d4ebff;}#sk-container-id-1 div.sk-serial::before {content: \"\";position: absolute;border-left: 1px solid gray;box-sizing: border-box;top: 0;bottom: 0;left: 50%;z-index: 0;}#sk-container-id-1 div.sk-serial {display: flex;flex-direction: column;align-items: center;background-color: white;padding-right: 0.2em;padding-left: 0.2em;position: relative;}#sk-container-id-1 div.sk-item {position: relative;z-index: 1;}#sk-container-id-1 div.sk-parallel {display: flex;align-items: stretch;justify-content: center;background-color: white;position: relative;}#sk-container-id-1 div.sk-item::before, #sk-container-id-1 div.sk-parallel-item::before {content: \"\";position: absolute;border-left: 1px solid gray;box-sizing: border-box;top: 0;bottom: 0;left: 50%;z-index: -1;}#sk-container-id-1 div.sk-parallel-item {display: flex;flex-direction: column;z-index: 1;position: relative;background-color: white;}#sk-container-id-1 div.sk-parallel-item:first-child::after {align-self: flex-end;width: 50%;}#sk-container-id-1 div.sk-parallel-item:last-child::after {align-self: flex-start;width: 50%;}#sk-container-id-1 div.sk-parallel-item:only-child::after {width: 0;}#sk-container-id-1 div.sk-dashed-wrapped {border: 1px dashed gray;margin: 0 0.4em 0.5em 0.4em;box-sizing: border-box;padding-bottom: 0.4em;background-color: white;}#sk-container-id-1 div.sk-label label {font-family: monospace;font-weight: bold;display: inline-block;line-height: 1.2em;}#sk-container-id-1 div.sk-label-container {text-align: center;}#sk-container-id-1 div.sk-container {/* jupyter's `normalize.less` sets `[hidden] { display: none; }` but bootstrap.min.css set `[hidden] { display: none !important; }` so we also need the `!important` here to be able to override the default hidden behavior on the sphinx rendered scikit-learn.org. See: https://github.com/scikit-learn/scikit-learn/issues/21755 */display: inline-block !important;position: relative;}#sk-container-id-1 div.sk-text-repr-fallback {display: none;}</style><div id=\"sk-container-id-1\" class=\"sk-top-container\"><div class=\"sk-text-repr-fallback\"><pre>Lasso(alpha=0.1)</pre><b>In a Jupyter environment, please rerun this cell to show the HTML representation or trust the notebook. <br />On GitHub, the HTML representation is unable to render, please try loading this page with nbviewer.org.</b></div><div class=\"sk-container\" hidden><div class=\"sk-item\"><div class=\"sk-estimator sk-toggleable\"><input class=\"sk-toggleable__control sk-hidden--visually\" id=\"sk-estimator-id-1\" type=\"checkbox\" checked><label for=\"sk-estimator-id-1\" class=\"sk-toggleable__label sk-toggleable__label-arrow\">Lasso</label><div class=\"sk-toggleable__content\"><pre>Lasso(alpha=0.1)</pre></div></div></div></div></div>"
      ],
      "text/plain": [
       "Lasso(alpha=0.1)"
      ]
     },
     "execution_count": 13,
     "metadata": {},
     "output_type": "execute_result"
    }
   ],
   "source": [
    "lasso = Lasso(alpha = 0.1, fit_intercept =True)\n",
    "lasso.fit(X_train,y_train)"
   ]
  },
  {
   "cell_type": "code",
   "execution_count": 14,
   "id": "c75e0211",
   "metadata": {},
   "outputs": [
    {
     "name": "stdout",
     "output_type": "stream",
     "text": [
      "0.035565865636605576\n"
     ]
    }
   ],
   "source": [
    "lasso_pred_on_test = lasso.predict(X_test)\n",
    "lasso_mse = mean_squared_error(y_test,lasso_pred_on_test)\n",
    "print(lasso_mse)"
   ]
  },
  {
   "cell_type": "code",
   "execution_count": 15,
   "id": "1d02a94f",
   "metadata": {},
   "outputs": [
    {
     "data": {
      "text/plain": [
       "0.9999999999998134"
      ]
     },
     "execution_count": 15,
     "metadata": {},
     "output_type": "execute_result"
    }
   ],
   "source": [
    "lasso.score(X_train,y_train)"
   ]
  },
  {
   "cell_type": "code",
   "execution_count": 16,
   "id": "45c7d49a",
   "metadata": {},
   "outputs": [
    {
     "data": {
      "text/plain": [
       "0.9999999999997415"
      ]
     },
     "execution_count": 16,
     "metadata": {},
     "output_type": "execute_result"
    }
   ],
   "source": [
    "lasso.score(X_test,y_test)"
   ]
  },
  {
   "cell_type": "code",
   "execution_count": 17,
   "id": "a9425f03",
   "metadata": {},
   "outputs": [],
   "source": [
    "from sklearn.preprocessing import StandardScaler\n",
    "scaler = StandardScaler()\n",
    "X_train_scaled = scaler.fit_transform(X_train)\n",
    "\n",
    "X_test_scaled = scaler.transform(X_test)"
   ]
  },
  {
   "cell_type": "code",
   "execution_count": 18,
   "id": "625c8827",
   "metadata": {},
   "outputs": [
    {
     "name": "stdout",
     "output_type": "stream",
     "text": [
      "6176.491999599957\n"
     ]
    }
   ],
   "source": [
    "lasso_s = Lasso(alpha=0.1, fit_intercept=True)\n",
    "lasso_s.fit(X_train_scaled, y_train)\n",
    "\n",
    "lasso_s_pred_on_test = lasso_s.predict(X_test_scaled)\n",
    "lasso_s_mse = mean_squared_error(y_test,lasso_s_pred_on_test)\n",
    "print(lasso_s_mse)"
   ]
  },
  {
   "cell_type": "code",
   "execution_count": 19,
   "id": "6f99f68b",
   "metadata": {},
   "outputs": [
    {
     "name": "stdout",
     "output_type": "stream",
     "text": [
      "0.9999999683147867\n"
     ]
    }
   ],
   "source": [
    "print(lasso_s.score(X_train_scaled,y_train))"
   ]
  },
  {
   "cell_type": "code",
   "execution_count": 20,
   "id": "0557abbd",
   "metadata": {},
   "outputs": [
    {
     "name": "stdout",
     "output_type": "stream",
     "text": [
      "0.9999999551226635\n"
     ]
    }
   ],
   "source": [
    "print(lasso_s.score(X_test_scaled,y_test))"
   ]
  },
  {
   "cell_type": "code",
   "execution_count": 21,
   "id": "fd68c297",
   "metadata": {},
   "outputs": [],
   "source": [
    "from sklearn.pipeline import Pipeline\n",
    "\n",
    "lasso_model = Pipeline([ ('scaler',StandardScaler()), ('Lasso', Lasso(fit_intercept=True))  ])\n",
    "cv_method = RepeatedKFold(n_splits=10, n_repeats=5, random_state=6500)\n",
    "pipe_params = {'Lasso__alpha': 10**np.linspace(-8,0,9)}\n",
    "search = GridSearchCV(lasso_model, pipe_params, scoring='neg_mean_squared_error',\n",
    "                     cv=cv_method, n_jobs=-1, verbose=False)\n",
    "search_results = search.fit(X_train,y_train)"
   ]
  },
  {
   "cell_type": "code",
   "execution_count": 22,
   "id": "df564897",
   "metadata": {},
   "outputs": [
    {
     "data": {
      "text/plain": [
       "{'mean_fit_time': array([0.00779379, 0.00651441, 0.00716323, 0.00749815, 0.00725279,\n",
       "        0.00800883, 0.0069357 , 0.00737929, 0.00611997]),\n",
       " 'std_fit_time': array([0.00273422, 0.00174476, 0.00275602, 0.00294294, 0.0029629 ,\n",
       "        0.00258942, 0.00221645, 0.00226454, 0.00161969]),\n",
       " 'mean_score_time': array([0.00109711, 0.00078218, 0.00094388, 0.00097646, 0.00087859,\n",
       "        0.00098667, 0.00097477, 0.00099585, 0.00065045]),\n",
       " 'std_score_time': array([0.00076898, 0.0003721 , 0.00072023, 0.00056662, 0.00058581,\n",
       "        0.00054046, 0.00078929, 0.00052641, 0.00013195]),\n",
       " 'param_Lasso__alpha': masked_array(data=[1e-08, 1e-07, 1e-06, 1e-05, 0.0001, 0.001, 0.01, 0.1,\n",
       "                    1.0],\n",
       "              mask=[False, False, False, False, False, False, False, False,\n",
       "                    False],\n",
       "        fill_value='?',\n",
       "             dtype=object),\n",
       " 'params': [{'Lasso__alpha': 1e-08},\n",
       "  {'Lasso__alpha': 1e-07},\n",
       "  {'Lasso__alpha': 1e-06},\n",
       "  {'Lasso__alpha': 1e-05},\n",
       "  {'Lasso__alpha': 0.0001},\n",
       "  {'Lasso__alpha': 0.001},\n",
       "  {'Lasso__alpha': 0.01},\n",
       "  {'Lasso__alpha': 0.1},\n",
       "  {'Lasso__alpha': 1.0}],\n",
       " 'split0_test_score': array([-9777.36287624, -9777.36285126, -9777.3626018 , -9777.36010737,\n",
       "        -9777.33516399, -9777.08577385, -9774.59628192, -9749.21405452,\n",
       "        -9524.496093  ]),\n",
       " 'split1_test_score': array([-6304.85370834, -6304.85368826, -6304.85348797, -6304.85148506,\n",
       "        -6304.83145569, -6304.63118882, -6302.63122371, -6283.13333937,\n",
       "        -6116.20596898]),\n",
       " 'split2_test_score': array([-4292.68885865, -4292.68883597, -4292.68860937, -4292.68634336,\n",
       "        -4292.66368356, -4292.43712913, -4290.17586916, -4268.66944153,\n",
       "        -4087.59817774]),\n",
       " 'split3_test_score': array([-8202.74193414, -8202.74192689, -8202.74185356, -8202.74112015,\n",
       "        -8202.73378672, -8202.66048644, -8201.71178981, -8193.47894447,\n",
       "        -8122.99104185]),\n",
       " 'split4_test_score': array([-5669.32138985, -5669.32137247, -5669.32119851, -5669.31945852,\n",
       "        -5669.30205831, -5669.12808902, -5667.39152205, -5650.50317127,\n",
       "        -5514.22032717]),\n",
       " 'split5_test_score': array([-4939.57611281, -4939.57609766, -4939.57594549, -4939.57442453,\n",
       "        -4939.55921443, -4939.40714465, -4937.88953211, -4924.44583019,\n",
       "        -4789.95063105]),\n",
       " 'split6_test_score': array([-5683.99843079, -5683.99840449, -5683.99814162, -5683.995513  ,\n",
       "        -5683.96922735, -5683.70640124, -5681.08122884, -5655.42686544,\n",
       "        -5426.37848644]),\n",
       " 'split7_test_score': array([-5396.04332554, -5396.04329429, -5396.04298184, -5396.03985722,\n",
       "        -5396.00861176, -5395.69619258, -5392.72953664, -5362.0407427 ,\n",
       "        -5084.61340821]),\n",
       " 'split8_test_score': array([-3981.65281575, -3981.65279993, -3981.65264174, -3981.65105974,\n",
       "        -3981.63523998, -3981.4770789 , -3979.88801778, -3964.49054056,\n",
       "        -3858.60840161]),\n",
       " 'split9_test_score': array([-4351.44378607, -4351.44377662, -4351.44368166, -4351.44273218,\n",
       "        -4351.43323826, -4351.33833256, -4350.39264581, -4341.44585509,\n",
       "        -4286.19814087]),\n",
       " 'split10_test_score': array([-6329.28176107, -6329.28174328, -6329.28156461, -6329.27977893,\n",
       "        -6329.26192139, -6329.08337709, -6327.3009764 , -6310.60341839,\n",
       "        -6163.05937568]),\n",
       " 'split11_test_score': array([-6208.3467258 , -6208.34669852, -6208.3464256 , -6208.34369694,\n",
       "        -6208.31640992, -6208.04357652, -6205.32963256, -6178.66403459,\n",
       "        -5943.72170601]),\n",
       " 'split12_test_score': array([-6440.88345487, -6440.88345164, -6440.88342011, -6440.88310358,\n",
       "        -6440.87993847, -6440.84834006, -6440.42811496, -6437.70186086,\n",
       "        -6454.00737716]),\n",
       " 'split13_test_score': array([-5791.02455531, -5791.02454464, -5791.02443854, -5791.02337753,\n",
       "        -5791.01276703, -5790.90669207, -5789.84891045, -5779.73044886,\n",
       "        -5707.69713515]),\n",
       " 'split14_test_score': array([-5338.04285383, -5338.04283289, -5338.04262258, -5338.0405204 ,\n",
       "        -5338.0194981 , -5337.80932141, -5335.58449626, -5315.51928781,\n",
       "        -5158.29912534]),\n",
       " 'split15_test_score': array([-8050.85258224, -8050.85255806, -8050.85231595, -8050.84989511,\n",
       "        -8050.82568653, -8050.58363045, -8048.25030824, -8025.08415893,\n",
       "        -7805.23753358]),\n",
       " 'split16_test_score': array([-9029.46671423, -9029.46669758, -9029.46653127, -9029.46486866,\n",
       "        -9029.44824228, -9029.28201364, -9027.29908923, -9010.31997609,\n",
       "        -8856.25928252]),\n",
       " 'split17_test_score': array([-7971.1865244 , -7971.18649985, -7971.18625412, -7971.18379776,\n",
       "        -7971.15923387, -7970.91363175, -7968.46130404, -7945.36185799,\n",
       "        -7740.43056157]),\n",
       " 'split18_test_score': array([-3259.37563988, -3259.37562349, -3259.37545991, -3259.37382398,\n",
       "        -3259.35746526, -3259.19390723, -3257.56126986, -3242.56752634,\n",
       "        -3107.88647513]),\n",
       " 'split19_test_score': array([-7205.45308991, -7205.45304831, -7205.45263195, -7205.44846878,\n",
       "        -7205.40683645, -7204.99055564, -7200.83182834, -7159.49348099,\n",
       "        -6794.11219093]),\n",
       " 'split20_test_score': array([-5052.71199451, -5052.71197683, -5052.71179917, -5052.71002363,\n",
       "        -5052.69226847, -5052.51476697, -5050.7134917 , -5032.99432743,\n",
       "        -4905.46130849]),\n",
       " 'split21_test_score': array([-7161.34057226, -7161.34056113, -7161.34044927, -7161.33933092,\n",
       "        -7161.32814799, -7161.21634709, -7160.10119783, -7149.6490485 ,\n",
       "        -7058.59612718]),\n",
       " 'split22_test_score': array([-4049.11598919, -4049.11597363, -4049.11581843, -4049.11426621,\n",
       "        -4049.09874438, -4048.94356106, -4047.36978538, -4032.1447047 ,\n",
       "        -3912.27172087]),\n",
       " 'split23_test_score': array([-6469.09740111, -6469.09736977, -6469.09705554, -6469.0939133 ,\n",
       "        -6469.0624916 , -6468.74830943, -6465.56195769, -6433.87127702,\n",
       "        -6142.8389638 ]),\n",
       " 'split24_test_score': array([-7842.73820931, -7842.73816598, -7842.73773321, -7842.73340621,\n",
       "        -7842.69013421, -7842.25745224, -7837.93437214, -7795.89665995,\n",
       "        -7401.25472035]),\n",
       " 'split25_test_score': array([-4291.43469235, -4291.43467295, -4291.43447853, -4291.43253493,\n",
       "        -4291.41309882, -4291.21877239, -4289.3859848 , -4272.1529014 ,\n",
       "        -4118.73962179]),\n",
       " 'split26_test_score': array([-4652.32100082, -4652.32099026, -4652.32088482, -4652.31983099,\n",
       "        -4652.30929289, -4652.20394792, -4651.22270155, -4641.64491374,\n",
       "        -4583.65063765]),\n",
       " 'split27_test_score': array([-4343.85538436, -4343.85536437, -4343.85516472, -4343.85316845,\n",
       "        -4343.833206  , -4343.63361236, -4341.64080626, -4322.14639189,\n",
       "        -4172.37139417]),\n",
       " 'split28_test_score': array([-13088.30220576, -13088.30221157, -13088.3022701 , -13088.30285501,\n",
       "        -13088.30870656, -13088.3672574 , -13088.95657986, -13097.89774677,\n",
       "        -13187.30659354]),\n",
       " 'split29_test_score': array([-6319.10393759, -6319.10390861, -6319.10361923, -6319.10072565,\n",
       "        -6319.07178954, -6318.78246123, -6315.8923692 , -6288.45326179,\n",
       "        -6036.02877653]),\n",
       " 'split30_test_score': array([-6229.68226739, -6229.68223562, -6229.68191768, -6229.67873804,\n",
       "        -6229.64694268, -6229.32903134, -6226.15416585, -6194.70891859,\n",
       "        -5920.84385679]),\n",
       " 'split31_test_score': array([-4995.36966061, -4995.36965131, -4995.36955764, -4995.36862198,\n",
       "        -4995.35926531, -4995.2657309 , -4994.33363198, -4984.90786078,\n",
       "        -4923.39963844]),\n",
       " 'split32_test_score': array([-5707.98650209, -5707.98648004, -5707.98625921, -5707.9840521 ,\n",
       "        -5707.96198076, -5707.74129809, -5705.49441093, -5683.3584036 ,\n",
       "        -5492.97421798]),\n",
       " 'split33_test_score': array([-3392.74860036, -3392.74857652, -3392.74833788, -3392.74595169,\n",
       "        -3392.72209013, -3392.48352092, -3390.10248988, -3367.91493905,\n",
       "        -3194.5547024 ]),\n",
       " 'split34_test_score': array([-8032.82808317, -8032.82805339, -8032.82775456, -8032.82476803,\n",
       "        -8032.79490224, -8032.49627936, -8029.51347864, -8001.03992548,\n",
       "        -7720.19082238]),\n",
       " 'split35_test_score': array([-7427.95088702, -7427.95086645, -7427.95065958, -7427.94859224,\n",
       "        -7427.9279183 , -7427.72121522, -7425.63062961, -7405.7166862 ,\n",
       "        -7224.07737737]),\n",
       " 'split36_test_score': array([-5114.40133483, -5114.40131802, -5114.40115061, -5114.39947611,\n",
       "        -5114.38273187, -5114.21531722, -5112.32507495, -5094.82025884,\n",
       "        -4967.28750244]),\n",
       " 'split37_test_score': array([-6304.54633019, -6304.54631599, -6304.5461729 , -6304.54474227,\n",
       "        -6304.53043635, -6304.38741007, -6302.89731542, -6290.2499238 ,\n",
       "        -6186.60408345]),\n",
       " 'split38_test_score': array([-4578.9042319 , -4578.90421456, -4578.90404124, -4578.90230871,\n",
       "        -4578.88498319, -4578.71175803, -4576.90753401, -4559.35832923,\n",
       "        -4416.42534124]),\n",
       " 'split39_test_score': array([-8438.17411523, -8438.17410598, -8438.1740137 , -8438.17309196,\n",
       "        -8438.16387408, -8438.07173046, -8437.03591516, -8427.57607837,\n",
       "        -8347.72177007]),\n",
       " 'split40_test_score': array([-5858.56550851, -5858.56549608, -5858.56537188, -5858.56412983,\n",
       "        -5858.55170954, -5858.42753593, -5857.08352559, -5844.16055355,\n",
       "        -5732.75555014]),\n",
       " 'split41_test_score': array([-6851.18478982, -6851.1847515 , -6851.18436838, -6851.18053762,\n",
       "        -6851.14222913, -6850.7591876 , -6846.93305198, -6809.49115377,\n",
       "        -6456.94376899]),\n",
       " 'split42_test_score': array([-6616.11125442, -6616.11124002, -6616.11109537, -6616.10964988,\n",
       "        -6616.09519454, -6615.95067287, -6614.50859591, -6600.28358992,\n",
       "        -6483.95676822]),\n",
       " 'split43_test_score': array([-6493.47339941, -6493.47338786, -6493.47327238, -6493.47211774,\n",
       "        -6493.46057134, -6493.34513906, -6492.19396624, -6479.8832    ,\n",
       "        -6400.56461044]),\n",
       " 'split44_test_score': array([-4437.4950607 , -4437.49504398, -4437.49487737, -4437.49321145,\n",
       "        -4437.47655189, -4437.30998646, -4435.64726335, -4419.80971515,\n",
       "        -4270.96276724]),\n",
       " 'split45_test_score': array([-8013.2221577 , -8013.22214308, -8013.22199663, -8013.22053192,\n",
       "        -8013.20588559, -8013.05945373, -8011.59834056, -7996.45773294,\n",
       "        -7883.58232356]),\n",
       " 'split46_test_score': array([-8117.90474032, -8117.90471792, -8117.90449433, -8117.9022574 ,\n",
       "        -8117.87988864, -8117.65624294, -8115.32037266, -8092.23025828,\n",
       "        -7896.38096157]),\n",
       " 'split47_test_score': array([-5034.03809795, -5034.03807886, -5034.03788834, -5034.03598362,\n",
       "        -5034.0169359 , -5033.82649612, -5031.92575483, -5013.6829571 ,\n",
       "        -4865.92259205]),\n",
       " 'split48_test_score': array([-3853.65056338, -3853.65053229, -3853.65022071, -3853.6471052 ,\n",
       "        -3853.61595075, -3853.3044619 , -3850.1826367 , -3819.02047925,\n",
       "        -3570.09049639]),\n",
       " 'split49_test_score': array([-4639.62079638, -4639.62077855, -4639.62060031, -4639.61881763,\n",
       "        -4639.60099119, -4639.42276356, -4637.64417119, -4620.56901618,\n",
       "        -6349.24402123]),\n",
       " 'mean_test_score': array([-6152.62953817, -6152.62951858, -6152.62932264, -6152.62736347,\n",
       "        -6152.60777186, -6152.41189166, -6150.431903  , -6131.39972099,\n",
       "        -6007.29948953]),\n",
       " 'std_test_score': array([1825.93944988, 1825.93945072, 1825.93945909, 1825.93954284,\n",
       "        1825.94038042, 1825.94875864, 1826.01566382, 1826.89297716,\n",
       "        1820.19580119]),\n",
       " 'rank_test_score': array([9, 8, 7, 6, 5, 4, 3, 2, 1], dtype=int32)}"
      ]
     },
     "execution_count": 22,
     "metadata": {},
     "output_type": "execute_result"
    }
   ],
   "source": [
    "search_results.cv_results_"
   ]
  },
  {
   "cell_type": "code",
   "execution_count": 23,
   "id": "0d7e6661",
   "metadata": {},
   "outputs": [
    {
     "name": "stdout",
     "output_type": "stream",
     "text": [
      "The best parameter {'Lasso__alpha': 1.0}\n",
      "Best Value for Scoring Method: -6007.29949\n"
     ]
    }
   ],
   "source": [
    "print('The best parameter %s' %search_results.best_params_ )\n",
    "print('Best Value for Scoring Method: %.5f' % search_results.best_score_)"
   ]
  },
  {
   "cell_type": "code",
   "execution_count": 24,
   "id": "77440709",
   "metadata": {},
   "outputs": [
    {
     "data": {
      "text/plain": [
       "array([-6152.62953817, -6152.62951858, -6152.62932264, -6152.62736347,\n",
       "       -6152.60777186, -6152.41189166, -6150.431903  , -6131.39972099,\n",
       "       -6007.29948953])"
      ]
     },
     "execution_count": 24,
     "metadata": {},
     "output_type": "execute_result"
    }
   ],
   "source": [
    "search_results.cv_results_['mean_test_score']"
   ]
  },
  {
   "cell_type": "code",
   "execution_count": 25,
   "id": "ce01d89b",
   "metadata": {},
   "outputs": [
    {
     "data": {
      "text/plain": [
       "<Axes: >"
      ]
     },
     "execution_count": 25,
     "metadata": {},
     "output_type": "execute_result"
    },
    {
     "data": {
      "image/png": "[encoded data removed]",
      "text/plain": [
       "<Figure size 640x480 with 1 Axes>"
      ]
     },
     "metadata": {},
     "output_type": "display_data"
    }
   ],
   "source": [
    "sns.lineplot(x=np.log10(pipe_params['Lasso__alpha']), y=-search_results.cv_results_['mean_test_score'])"
   ]
  },
  {
   "cell_type": "code",
   "execution_count": 26,
   "id": "d3551628",
   "metadata": {},
   "outputs": [
    {
     "data": {
      "text/plain": [
       "6007.299489534178"
      ]
     },
     "execution_count": 26,
     "metadata": {},
     "output_type": "execute_result"
    }
   ],
   "source": [
    "lasso_mincv= min(-search_results.cv_results_['mean_test_score'])\n",
    "lasso_mincv"
   ]
  },
  {
   "cell_type": "code",
   "execution_count": 27,
   "id": "612b925e",
   "metadata": {},
   "outputs": [
    {
     "data": {
      "text/plain": [
       "{'Lasso__alpha': 1.0}"
      ]
     },
     "execution_count": 27,
     "metadata": {},
     "output_type": "execute_result"
    }
   ],
   "source": [
    "search_results.best_params_"
   ]
  },
  {
   "cell_type": "code",
   "execution_count": 28,
   "id": "06201475",
   "metadata": {},
   "outputs": [
    {
     "data": {
      "text/html": [
       "<style>#sk-container-id-2 {color: black;}#sk-container-id-2 pre{padding: 0;}#sk-container-id-2 div.sk-toggleable {background-color: white;}#sk-container-id-2 label.sk-toggleable__label {cursor: pointer;display: block;width: 100%;margin-bottom: 0;padding: 0.3em;box-sizing: border-box;text-align: center;}#sk-container-id-2 label.sk-toggleable__label-arrow:before {content: \"▸\";float: left;margin-right: 0.25em;color: #696969;}#sk-container-id-2 label.sk-toggleable__label-arrow:hover:before {color: black;}#sk-container-id-2 div.sk-estimator:hover label.sk-toggleable__label-arrow:before {color: black;}#sk-container-id-2 div.sk-toggleable__content {max-height: 0;max-width: 0;overflow: hidden;text-align: left;background-color: #f0f8ff;}#sk-container-id-2 div.sk-toggleable__content pre {margin: 0.2em;color: black;border-radius: 0.25em;background-color: #f0f8ff;}#sk-container-id-2 input.sk-toggleable__control:checked~div.sk-toggleable__content {max-height: 200px;max-width: 100%;overflow: auto;}#sk-container-id-2 input.sk-toggleable__control:checked~label.sk-toggleable__label-arrow:before {content: \"▾\";}#sk-container-id-2 div.sk-estimator input.sk-toggleable__control:checked~label.sk-toggleable__label {background-color: #d4ebff;}#sk-container-id-2 div.sk-label input.sk-toggleable__control:checked~label.sk-toggleable__label {background-color: #d4ebff;}#sk-container-id-2 input.sk-hidden--visually {border: 0;clip: rect(1px 1px 1px 1px);clip: rect(1px, 1px, 1px, 1px);height: 1px;margin: -1px;overflow: hidden;padding: 0;position: absolute;width: 1px;}#sk-container-id-2 div.sk-estimator {font-family: monospace;background-color: #f0f8ff;border: 1px dotted black;border-radius: 0.25em;box-sizing: border-box;margin-bottom: 0.5em;}#sk-container-id-2 div.sk-estimator:hover {background-color: #d4ebff;}#sk-container-id-2 div.sk-parallel-item::after {content: \"\";width: 100%;border-bottom: 1px solid gray;flex-grow: 1;}#sk-container-id-2 div.sk-label:hover label.sk-toggleable__label {background-color: #d4ebff;}#sk-container-id-2 div.sk-serial::before {content: \"\";position: absolute;border-left: 1px solid gray;box-sizing: border-box;top: 0;bottom: 0;left: 50%;z-index: 0;}#sk-container-id-2 div.sk-serial {display: flex;flex-direction: column;align-items: center;background-color: white;padding-right: 0.2em;padding-left: 0.2em;position: relative;}#sk-container-id-2 div.sk-item {position: relative;z-index: 1;}#sk-container-id-2 div.sk-parallel {display: flex;align-items: stretch;justify-content: center;background-color: white;position: relative;}#sk-container-id-2 div.sk-item::before, #sk-container-id-2 div.sk-parallel-item::before {content: \"\";position: absolute;border-left: 1px solid gray;box-sizing: border-box;top: 0;bottom: 0;left: 50%;z-index: -1;}#sk-container-id-2 div.sk-parallel-item {display: flex;flex-direction: column;z-index: 1;position: relative;background-color: white;}#sk-container-id-2 div.sk-parallel-item:first-child::after {align-self: flex-end;width: 50%;}#sk-container-id-2 div.sk-parallel-item:last-child::after {align-self: flex-start;width: 50%;}#sk-container-id-2 div.sk-parallel-item:only-child::after {width: 0;}#sk-container-id-2 div.sk-dashed-wrapped {border: 1px dashed gray;margin: 0 0.4em 0.5em 0.4em;box-sizing: border-box;padding-bottom: 0.4em;background-color: white;}#sk-container-id-2 div.sk-label label {font-family: monospace;font-weight: bold;display: inline-block;line-height: 1.2em;}#sk-container-id-2 div.sk-label-container {text-align: center;}#sk-container-id-2 div.sk-container {/* jupyter's `normalize.less` sets `[hidden] { display: none; }` but bootstrap.min.css set `[hidden] { display: none !important; }` so we also need the `!important` here to be able to override the default hidden behavior on the sphinx rendered scikit-learn.org. See: https://github.com/scikit-learn/scikit-learn/issues/21755 */display: inline-block !important;position: relative;}#sk-container-id-2 div.sk-text-repr-fallback {display: none;}</style><div id=\"sk-container-id-2\" class=\"sk-top-container\"><div class=\"sk-text-repr-fallback\"><pre>Pipeline(steps=[(&#x27;scaler&#x27;, StandardScaler()), (&#x27;Lasso&#x27;, Lasso())])</pre><b>In a Jupyter environment, please rerun this cell to show the HTML representation or trust the notebook. <br />On GitHub, the HTML representation is unable to render, please try loading this page with nbviewer.org.</b></div><div class=\"sk-container\" hidden><div class=\"sk-item sk-dashed-wrapped\"><div class=\"sk-label-container\"><div class=\"sk-label sk-toggleable\"><input class=\"sk-toggleable__control sk-hidden--visually\" id=\"sk-estimator-id-2\" type=\"checkbox\" ><label for=\"sk-estimator-id-2\" class=\"sk-toggleable__label sk-toggleable__label-arrow\">Pipeline</label><div class=\"sk-toggleable__content\"><pre>Pipeline(steps=[(&#x27;scaler&#x27;, StandardScaler()), (&#x27;Lasso&#x27;, Lasso())])</pre></div></div></div><div class=\"sk-serial\"><div class=\"sk-item\"><div class=\"sk-estimator sk-toggleable\"><input class=\"sk-toggleable__control sk-hidden--visually\" id=\"sk-estimator-id-3\" type=\"checkbox\" ><label for=\"sk-estimator-id-3\" class=\"sk-toggleable__label sk-toggleable__label-arrow\">StandardScaler</label><div class=\"sk-toggleable__content\"><pre>StandardScaler()</pre></div></div></div><div class=\"sk-item\"><div class=\"sk-estimator sk-toggleable\"><input class=\"sk-toggleable__control sk-hidden--visually\" id=\"sk-estimator-id-4\" type=\"checkbox\" ><label for=\"sk-estimator-id-4\" class=\"sk-toggleable__label sk-toggleable__label-arrow\">Lasso</label><div class=\"sk-toggleable__content\"><pre>Lasso()</pre></div></div></div></div></div></div></div>"
      ],
      "text/plain": [
       "Pipeline(steps=[('scaler', StandardScaler()), ('Lasso', Lasso())])"
      ]
     },
     "execution_count": 28,
     "metadata": {},
     "output_type": "execute_result"
    }
   ],
   "source": [
    "alpha_opt = search_results.best_params_['Lasso__alpha']\n",
    "lasso_opt = Pipeline([ ('scaler',StandardScaler()), ('Lasso', Lasso(alpha=alpha_opt,fit_intercept=True))  ])\n",
    "lasso_opt.fit(X_train,y_train)"
   ]
  },
  {
   "cell_type": "code",
   "execution_count": 29,
   "id": "b87df26b",
   "metadata": {},
   "outputs": [
    {
     "name": "stdout",
     "output_type": "stream",
     "text": [
      "6000.341353053443\n"
     ]
    }
   ],
   "source": [
    "lasso_opt_pred_on_test = lasso_opt.predict(X_test)\n",
    "lasso_opt_mse = mean_squared_error(y_test,lasso_opt_pred_on_test)\n",
    "print(lasso_opt_mse)"
   ]
  },
  {
   "cell_type": "code",
   "execution_count": 30,
   "id": "60138a70",
   "metadata": {},
   "outputs": [
    {
     "data": {
      "text/plain": [
       "0.999999956402544"
      ]
     },
     "execution_count": 30,
     "metadata": {},
     "output_type": "execute_result"
    }
   ],
   "source": [
    "lasso_opt_R2_test = lasso_opt.score(X_test,y_test)\n",
    "lasso_opt_R2_test"
   ]
  },
  {
   "cell_type": "code",
   "execution_count": 31,
   "id": "211dce6e",
   "metadata": {},
   "outputs": [
    {
     "data": {
      "text/plain": [
       "array([ 0.00000000e+00, -4.10724264e+00,  1.89752030e+02,  4.17110696e+05,\n",
       "       -1.24796000e+01, -1.01741264e+01, -0.00000000e+00, -4.87954289e+00,\n",
       "        0.00000000e+00,  4.68930785e-01,  0.00000000e+00, -3.33796035e+00,\n",
       "       -0.00000000e+00,  9.15899726e-02, -0.00000000e+00,  0.00000000e+00,\n",
       "       -0.00000000e+00,  0.00000000e+00,  8.03200235e-01, -0.00000000e+00])"
      ]
     },
     "execution_count": 31,
     "metadata": {},
     "output_type": "execute_result"
    }
   ],
   "source": [
    "lasso_opt.named_steps['Lasso'].coef_"
   ]
  },
  {
   "cell_type": "code",
   "execution_count": 32,
   "id": "eb12deda",
   "metadata": {},
   "outputs": [
    {
     "data": {
      "text/plain": [
       "array([ 9.16298163e-09, -0.00000000e+00,  1.57404193e-06,  9.99999081e-01,\n",
       "       -1.49669719e-04, -0.00000000e+00, -0.00000000e+00, -3.60498903e-04,\n",
       "        0.00000000e+00, -2.47141121e-05,  0.00000000e+00, -0.00000000e+00,\n",
       "        0.00000000e+00,  0.00000000e+00, -0.00000000e+00,  0.00000000e+00,\n",
       "       -0.00000000e+00,  0.00000000e+00,  0.00000000e+00, -0.00000000e+00])"
      ]
     },
     "execution_count": 32,
     "metadata": {},
     "output_type": "execute_result"
    }
   ],
   "source": [
    "lasso.coef_"
   ]
  },
  {
   "cell_type": "code",
   "execution_count": 33,
   "id": "59e4afbd",
   "metadata": {},
   "outputs": [],
   "source": [
    "df_lasso = pd.DataFrame(lasso.coef_)"
   ]
  },
  {
   "cell_type": "code",
   "execution_count": 34,
   "id": "9bb9b72f",
   "metadata": {},
   "outputs": [
    {
     "data": {
      "text/html": [
       "<div>\n",
       "<style scoped>\n",
       "    .dataframe tbody tr th:only-of-type {\n",
       "        vertical-align: middle;\n",
       "    }\n",
       "\n",
       "    .dataframe tbody tr th {\n",
       "        vertical-align: top;\n",
       "    }\n",
       "\n",
       "    .dataframe thead th {\n",
       "        text-align: right;\n",
       "    }\n",
       "</style>\n",
       "<table border=\"1\" class=\"dataframe\">\n",
       "  <thead>\n",
       "    <tr style=\"text-align: right;\">\n",
       "      <th></th>\n",
       "      <th>0</th>\n",
       "      <th>0</th>\n",
       "    </tr>\n",
       "  </thead>\n",
       "  <tbody>\n",
       "    <tr>\n",
       "      <th>0</th>\n",
       "      <td>census_tract</td>\n",
       "      <td>9.162982e-09</td>\n",
       "    </tr>\n",
       "    <tr>\n",
       "      <th>1</th>\n",
       "      <td>action_taken</td>\n",
       "      <td>-0.000000e+00</td>\n",
       "    </tr>\n",
       "    <tr>\n",
       "      <th>2</th>\n",
       "      <td>loan_amount</td>\n",
       "      <td>1.574042e-06</td>\n",
       "    </tr>\n",
       "    <tr>\n",
       "      <th>3</th>\n",
       "      <td>property_value</td>\n",
       "      <td>9.999991e-01</td>\n",
       "    </tr>\n",
       "    <tr>\n",
       "      <th>4</th>\n",
       "      <td>income</td>\n",
       "      <td>-1.496697e-04</td>\n",
       "    </tr>\n",
       "  </tbody>\n",
       "</table>\n",
       "</div>"
      ],
      "text/plain": [
       "                0             0\n",
       "0    census_tract  9.162982e-09\n",
       "1    action_taken -0.000000e+00\n",
       "2     loan_amount  1.574042e-06\n",
       "3  property_value  9.999991e-01\n",
       "4          income -1.496697e-04"
      ]
     },
     "execution_count": 34,
     "metadata": {},
     "output_type": "execute_result"
    }
   ],
   "source": [
    "names = pd.DataFrame(list(X.columns))\n",
    "df_lasso = pd.concat([names, df_lasso], axis = 1)\n",
    "df_lasso.head()"
   ]
  },
  {
   "cell_type": "code",
   "execution_count": 35,
   "id": "af07fa08",
   "metadata": {},
   "outputs": [
    {
     "data": {
      "text/html": [
       "<div>\n",
       "<style scoped>\n",
       "    .dataframe tbody tr th:only-of-type {\n",
       "        vertical-align: middle;\n",
       "    }\n",
       "\n",
       "    .dataframe tbody tr th {\n",
       "        vertical-align: top;\n",
       "    }\n",
       "\n",
       "    .dataframe thead th {\n",
       "        text-align: right;\n",
       "    }\n",
       "</style>\n",
       "<table border=\"1\" class=\"dataframe\">\n",
       "  <thead>\n",
       "    <tr style=\"text-align: right;\">\n",
       "      <th></th>\n",
       "      <th>Feature</th>\n",
       "      <th>lasso_coeff_.1</th>\n",
       "    </tr>\n",
       "  </thead>\n",
       "  <tbody>\n",
       "    <tr>\n",
       "      <th>3</th>\n",
       "      <td>property_value</td>\n",
       "      <td>9.999991e-01</td>\n",
       "    </tr>\n",
       "    <tr>\n",
       "      <th>2</th>\n",
       "      <td>loan_amount</td>\n",
       "      <td>1.574042e-06</td>\n",
       "    </tr>\n",
       "    <tr>\n",
       "      <th>0</th>\n",
       "      <td>census_tract</td>\n",
       "      <td>9.162982e-09</td>\n",
       "    </tr>\n",
       "    <tr>\n",
       "      <th>11</th>\n",
       "      <td>covenant_density</td>\n",
       "      <td>-0.000000e+00</td>\n",
       "    </tr>\n",
       "    <tr>\n",
       "      <th>18</th>\n",
       "      <td>race_Race Not Available</td>\n",
       "      <td>0.000000e+00</td>\n",
       "    </tr>\n",
       "    <tr>\n",
       "      <th>17</th>\n",
       "      <td>race_Native Hawaiian or Other Pacific Islander</td>\n",
       "      <td>0.000000e+00</td>\n",
       "    </tr>\n",
       "    <tr>\n",
       "      <th>16</th>\n",
       "      <td>race_Joint</td>\n",
       "      <td>-0.000000e+00</td>\n",
       "    </tr>\n",
       "    <tr>\n",
       "      <th>15</th>\n",
       "      <td>race_Black or African American</td>\n",
       "      <td>0.000000e+00</td>\n",
       "    </tr>\n",
       "    <tr>\n",
       "      <th>14</th>\n",
       "      <td>race_Asian</td>\n",
       "      <td>-0.000000e+00</td>\n",
       "    </tr>\n",
       "    <tr>\n",
       "      <th>13</th>\n",
       "      <td>race_American Indian or Alaska Native</td>\n",
       "      <td>0.000000e+00</td>\n",
       "    </tr>\n",
       "    <tr>\n",
       "      <th>12</th>\n",
       "      <td>race_2 or more minority races</td>\n",
       "      <td>0.000000e+00</td>\n",
       "    </tr>\n",
       "    <tr>\n",
       "      <th>10</th>\n",
       "      <td>was_approved</td>\n",
       "      <td>0.000000e+00</td>\n",
       "    </tr>\n",
       "    <tr>\n",
       "      <th>1</th>\n",
       "      <td>action_taken</td>\n",
       "      <td>-0.000000e+00</td>\n",
       "    </tr>\n",
       "    <tr>\n",
       "      <th>8</th>\n",
       "      <td>denial_reason-1</td>\n",
       "      <td>0.000000e+00</td>\n",
       "    </tr>\n",
       "    <tr>\n",
       "      <th>6</th>\n",
       "      <td>tract_minority_population_percent</td>\n",
       "      <td>-0.000000e+00</td>\n",
       "    </tr>\n",
       "    <tr>\n",
       "      <th>5</th>\n",
       "      <td>interest_rate</td>\n",
       "      <td>-0.000000e+00</td>\n",
       "    </tr>\n",
       "    <tr>\n",
       "      <th>19</th>\n",
       "      <td>race_White</td>\n",
       "      <td>-0.000000e+00</td>\n",
       "    </tr>\n",
       "    <tr>\n",
       "      <th>9</th>\n",
       "      <td>covenant_count</td>\n",
       "      <td>-2.471411e-05</td>\n",
       "    </tr>\n",
       "    <tr>\n",
       "      <th>4</th>\n",
       "      <td>income</td>\n",
       "      <td>-1.496697e-04</td>\n",
       "    </tr>\n",
       "    <tr>\n",
       "      <th>7</th>\n",
       "      <td>tract_to_msa_income_percentage</td>\n",
       "      <td>-3.604989e-04</td>\n",
       "    </tr>\n",
       "  </tbody>\n",
       "</table>\n",
       "</div>"
      ],
      "text/plain": [
       "                                           Feature  lasso_coeff_.1\n",
       "3                                   property_value    9.999991e-01\n",
       "2                                      loan_amount    1.574042e-06\n",
       "0                                     census_tract    9.162982e-09\n",
       "11                                covenant_density   -0.000000e+00\n",
       "18                         race_Race Not Available    0.000000e+00\n",
       "17  race_Native Hawaiian or Other Pacific Islander    0.000000e+00\n",
       "16                                      race_Joint   -0.000000e+00\n",
       "15                  race_Black or African American    0.000000e+00\n",
       "14                                      race_Asian   -0.000000e+00\n",
       "13           race_American Indian or Alaska Native    0.000000e+00\n",
       "12                   race_2 or more minority races    0.000000e+00\n",
       "10                                    was_approved    0.000000e+00\n",
       "1                                     action_taken   -0.000000e+00\n",
       "8                                  denial_reason-1    0.000000e+00\n",
       "6                tract_minority_population_percent   -0.000000e+00\n",
       "5                                    interest_rate   -0.000000e+00\n",
       "19                                      race_White   -0.000000e+00\n",
       "9                                   covenant_count   -2.471411e-05\n",
       "4                                           income   -1.496697e-04\n",
       "7                   tract_to_msa_income_percentage   -3.604989e-04"
      ]
     },
     "execution_count": 35,
     "metadata": {},
     "output_type": "execute_result"
    }
   ],
   "source": [
    "df_lasso.columns = ['Feature', 'lasso_coeff_.1']\n",
    "df_lasso = df_lasso.sort_values(by='lasso_coeff_.1', ascending = False)\n",
    "df_lasso"
   ]
  },
  {
   "cell_type": "code",
   "execution_count": 36,
   "id": "7cb7931c",
   "metadata": {},
   "outputs": [],
   "source": [
    "## census tract and loan amounts has something to do with housing discrimination"
   ]
  },
  {
   "cell_type": "markdown",
   "id": "90233ed4",
   "metadata": {},
   "source": [
    "### Data Visualizations Comparing Variables"
   ]
  },
  {
   "cell_type": "code",
   "execution_count": 37,
   "id": "644fc230",
   "metadata": {},
   "outputs": [
    {
     "data": {
      "text/plain": [
       "(array([0, 1, 2, 3, 4, 5, 6, 7]),\n",
       " [Text(0, 0, 'Race Not Available'),\n",
       "  Text(1, 0, 'White'),\n",
       "  Text(2, 0, 'Asian'),\n",
       "  Text(3, 0, 'Joint'),\n",
       "  Text(4, 0, 'Black or African American'),\n",
       "  Text(5, 0, 'American Indian or Alaska Native'),\n",
       "  Text(6, 0, '2 or more minority races'),\n",
       "  Text(7, 0, 'Native Hawaiian or Other Pacific Islander')])"
      ]
     },
     "execution_count": 37,
     "metadata": {},
     "output_type": "execute_result"
    },
    {
     "data": {
      "image/png": "[encoded data removed]",
      "text/plain": [
       "<Figure size 640x480 with 1 Axes>"
      ]
     },
     "metadata": {},
     "output_type": "display_data"
    }
   ],
   "source": [
    "fig1=sns.barplot(mortgage, x='derived_race', y='loan_amount')\n",
    "plt.xticks(rotation=90)"
   ]
  },
  {
   "cell_type": "code",
   "execution_count": 38,
   "id": "afae8517",
   "metadata": {},
   "outputs": [],
   "source": [
    "## Black/African Americans are take out the least amount of loans."
   ]
  },
  {
   "cell_type": "code",
   "execution_count": 39,
   "id": "8a0a424e",
   "metadata": {},
   "outputs": [
    {
     "data": {
      "text/plain": [
       "(0.0, 1000.0)"
      ]
     },
     "execution_count": 39,
     "metadata": {},
     "output_type": "execute_result"
    },
    {
     "data": {
      "image/png": "[encoded data removed]",
      "text/plain": [
       "<Figure size 640x480 with 1 Axes>"
      ]
     },
     "metadata": {},
     "output_type": "display_data"
    }
   ],
   "source": [
    "fig2=sns.histplot(mortgage, x='income', bins=150)\n",
    "plt.xlim(0,1000)"
   ]
  },
  {
   "cell_type": "code",
   "execution_count": 47,
   "id": "cd2f2994",
   "metadata": {},
   "outputs": [
    {
     "data": {
      "image/png": "[encoded data removed]",
      "text/plain": [
       "<Figure size 640x480 with 1 Axes>"
      ]
     },
     "metadata": {},
     "output_type": "display_data"
    }
   ],
   "source": [
    "fig3=sns.barplot(mortgage, x='covenant_density', y='property_value')"
   ]
  },
  {
   "cell_type": "code",
   "execution_count": 48,
   "id": "d008e4af",
   "metadata": {},
   "outputs": [],
   "source": [
    "## Places with lower covenant densities have lower property values. On the other hand, places with medium to\n",
    "## high covenant densities have similar property values."
   ]
  },
  {
   "cell_type": "code",
   "execution_count": 45,
   "id": "df828aff",
   "metadata": {},
   "outputs": [
    {
     "data": {
      "image/png": "[encoded data removed]",
      "text/plain": [
       "<Figure size 640x480 with 1 Axes>"
      ]
     },
     "metadata": {},
     "output_type": "display_data"
    }
   ],
   "source": [
    "fig4=sns.barplot(mortgage, x='covenant_density', y='loan_amount')"
   ]
  },
  {
   "cell_type": "code",
   "execution_count": 46,
   "id": "ffd151e3",
   "metadata": {},
   "outputs": [],
   "source": [
    "## Places with lower covenant densities have lower loan amounts."
   ]
  }
 ],
 "metadata": {
  "kernelspec": {
   "display_name": "Python 3 (ipykernel)",
   "language": "python",
   "name": "python3"
  },
  "language_info": {
   "codemirror_mode": {
    "name": "ipython",
    "version": 3
   },
   "file_extension": ".py",
   "mimetype": "text/x-python",
   "name": "python",
   "nbconvert_exporter": "python",
   "pygments_lexer": "ipython3",
   "version": "3.11.5"
  }
 },
 "nbformat": 4,
 "nbformat_minor": 5
}
